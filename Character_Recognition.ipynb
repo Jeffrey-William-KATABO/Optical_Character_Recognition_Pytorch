{
  "cells": [
    {
      "cell_type": "markdown",
      "metadata": {},
      "source": [
        "# Building a CNN for Hiragana character recognition using PyTorch"
      ]
    },
    {
      "cell_type": "code",
      "execution_count": 1,
      "metadata": {
        "id": "bzYbJvKN2is8"
      },
      "outputs": [],
      "source": [
        "# import the necessary packages\n",
        "from torch.nn import Module\n",
        "from torch.nn import Conv2d\n",
        "from torch.nn import Linear\n",
        "from torch.nn import MaxPool2d\n",
        "from torch.nn import ReLU\n",
        "from torch.nn import LogSoftmax\n",
        "from torch import flatten\n",
        "from torchvision.transforms import ToPILImage"
      ]
    },
    {
      "cell_type": "markdown",
      "metadata": {
        "id": "5DsBx6SK8b56"
      },
      "source": [
        "## Building the model"
      ]
    },
    {
      "cell_type": "code",
      "execution_count": 2,
      "metadata": {
        "id": "gARcExd48eey"
      },
      "outputs": [],
      "source": [
        "class LeNet(Module):\n",
        "\tdef __init__(self, numChannels, classes):\n",
        "\t\t# call the parent constructor\n",
        "\t\tsuper(LeNet, self).__init__()\n",
        "\t\t# initialize first set of CONV => RELU => POOL layers\n",
        "\t\tself.conv1 = Conv2d(in_channels=numChannels, out_channels=20,\n",
        "\t\t\tkernel_size=(5, 5))\n",
        "\t\tself.relu1 = ReLU()\n",
        "\t\tself.maxpool1 = MaxPool2d(kernel_size=(2, 2), stride=(2, 2))\n",
        "\t\t# initialize second set of CONV => RELU => POOL layers\n",
        "\t\tself.conv2 = Conv2d(in_channels=20, out_channels=50,\n",
        "\t\t\tkernel_size=(5, 5))\n",
        "\t\tself.relu2 = ReLU()\n",
        "\t\tself.maxpool2 = MaxPool2d(kernel_size=(2, 2), stride=(2, 2))\n",
        "\t\t# initialize first (and only) set of FC => RELU layers\n",
        "\t\tself.fc1 = Linear(in_features=800, out_features=500)\n",
        "\t\tself.relu3 = ReLU()\n",
        "\t\t# initialize our softmax classifier\n",
        "\t\tself.fc2 = Linear(in_features=500, out_features=classes)\n",
        "\t\tself.logSoftmax = LogSoftmax(dim=1)\n",
        "\n",
        "\t# Defining the forward pass function. Implenting this function as a class method\n",
        "\t# is mandatory in PyTorch, because our LeNet class extends (inherits from) the Module super class.\n",
        "\tdef forward(self, x):\n",
        "\t\t# pass the input through our first set of CONV => RELU =>\n",
        "\t\t# POOL layers\n",
        "\t\tx = self.conv1(x)\n",
        "\t\tx = self.relu1(x)\n",
        "\t\tx = self.maxpool1(x)\n",
        "\t\t# pass the output from the previous layer through the second\n",
        "\t\t# set of CONV => RELU => POOL layers\n",
        "\t\tx = self.conv2(x)\n",
        "\t\tx = self.relu2(x)\n",
        "\t\tx = self.maxpool2(x)\n",
        "\t\t# flatten the output from the previous layer and pass it\n",
        "\t\t# through our only set of FC => RELU layers\n",
        "\t\tx = flatten(x, 1)\n",
        "\t\tx = self.fc1(x)\n",
        "\t\tx = self.relu3(x)\n",
        "\t\t# pass the output to our softmax classifier to get our output\n",
        "\t\t# predictions\n",
        "\t\tx = self.fc2(x)\n",
        "\t\toutput = self.logSoftmax(x)\n",
        "\t\t# return the output predictions\n",
        "\t\treturn output"
      ]
    },
    {
      "cell_type": "markdown",
      "metadata": {},
      "source": [
        "The model is created as a class that extends (inherits from) the Module class, which is a fundamental building block for creating neural network models. It is a base class that provides a framework for defining and organizing the layers and operations of a neural network. However, using it requires the \"daughter\" class (LeNet) to have a forward pas function.\n",
        "This is why the $\\textit{forward}$ function is defined as a class method rather than a standalone function."
      ]
    },
    {
      "cell_type": "markdown",
      "metadata": {},
      "source": [
        "The network architecture is as follows: \n",
        "* Two successive blocks of Convolution -> ReLu -> MaxPool. Both Conv2D layers use 5x5 filters.\n",
        "* Flatten\n",
        "* One fully connected layer with ReLu as the activation function\n",
        "* The last layer, fully connected as well, with Softmax the activation function."
      ]
    },
    {
      "cell_type": "markdown",
      "metadata": {
        "id": "vEo5cOQ8603C"
      },
      "source": [
        "## Training the model"
      ]
    },
    {
      "cell_type": "code",
      "execution_count": 3,
      "metadata": {
        "id": "ouZEAxWX60Ii"
      },
      "outputs": [],
      "source": [
        "# set the matplotlib backend so figures can be saved in the background\n",
        "import matplotlib\n",
        "matplotlib.use(\"Agg\")\n",
        "# import the necessary packages\n",
        "#from pyimagesearch.lenet import LeNet\n",
        "from sklearn.metrics import classification_report\n",
        "from torch.utils.data import random_split\n",
        "from torch.utils.data import DataLoader\n",
        "from torchvision.transforms import ToTensor\n",
        "from torchvision.datasets import KMNIST\n",
        "from torch.optim import Adam\n",
        "from torch import nn\n",
        "import matplotlib.pyplot as plt\n",
        "import numpy as np\n",
        "import argparse\n",
        "import torch\n",
        "import time"
      ]
    },
    {
      "cell_type": "markdown",
      "metadata": {},
      "source": [
        "### Defining constants and hyperparameters"
      ]
    },
    {
      "cell_type": "code",
      "execution_count": 4,
      "metadata": {
        "id": "4ve6kFpl8vdb"
      },
      "outputs": [],
      "source": [
        "# define training hyperparameters\n",
        "INIT_LR = 1e-3\n",
        "BATCH_SIZE = 64\n",
        "EPOCHS = 10\n",
        "# define the train and val splits\n",
        "TRAIN_SPLIT = 0.75\n",
        "VAL_SPLIT = 1 - TRAIN_SPLIT\n",
        "# set the device we will be using to train the model\n",
        "device = torch.device(\"cuda\" if torch.cuda.is_available() else \"cpu\")\n"
      ]
    },
    {
      "cell_type": "markdown",
      "metadata": {
        "id": "SJ5fvpXcMqow"
      },
      "source": [
        "### Preparing the dataset"
      ]
    },
    {
      "cell_type": "code",
      "execution_count": 5,
      "metadata": {
        "colab": {
          "base_uri": "https://localhost:8080/"
        },
        "id": "xewqbZMYMpKh",
        "outputId": "5d0ceef6-f7d3-48ff-b91d-819f3137015a"
      },
      "outputs": [
        {
          "name": "stdout",
          "output_type": "stream",
          "text": [
            "[INFO] loading the KMNIST dataset...\n",
            "[INFO] generating the train/validation split...\n"
          ]
        }
      ],
      "source": [
        "# load the KMNIST dataset\n",
        "print(\"[INFO] loading the KMNIST dataset...\")\n",
        "trainData = KMNIST(root=\"data\", train=True, download=True,\n",
        "\ttransform=ToTensor())\n",
        "testData = KMNIST(root=\"data\", train=False, download=True,\n",
        "\ttransform=ToTensor())\n",
        "# calculate the train/validation split\n",
        "print(\"[INFO] generating the train/validation split...\")\n",
        "numTrainSamples = int(len(trainData) * TRAIN_SPLIT)\n",
        "numValSamples = int(len(trainData) * VAL_SPLIT)\n",
        "(trainData, valData) = random_split(trainData,\n",
        "\t[numTrainSamples, numValSamples],\n",
        "\tgenerator=torch.Generator().manual_seed(42))"
      ]
    },
    {
      "cell_type": "code",
      "execution_count": 6,
      "metadata": {
        "id": "3KbvkMicMdFy"
      },
      "outputs": [],
      "source": [
        "# initializing the train, validation, and test data loaders\n",
        "trainDataLoader = DataLoader(trainData, shuffle=True,\n",
        "\tbatch_size=BATCH_SIZE)\n",
        "valDataLoader = DataLoader(valData, batch_size=BATCH_SIZE)\n",
        "testDataLoader = DataLoader(testData, batch_size=BATCH_SIZE)\n",
        "# calculate steps per epoch for training and validation set\n",
        "trainSteps = len(trainDataLoader.dataset) // BATCH_SIZE\n",
        "valSteps = len(valDataLoader.dataset) // BATCH_SIZE"
      ]
    },
    {
      "cell_type": "markdown",
      "metadata": {
        "id": "E34vsZUqNM-3"
      },
      "source": [
        "### Creating a data loader for the training, validation and testing sets"
      ]
    },
    {
      "cell_type": "markdown",
      "metadata": {},
      "source": [
        "This is to load the data in batches of pre-defined size and ensuring randomization (shuffling) of the data."
      ]
    },
    {
      "cell_type": "code",
      "execution_count": 7,
      "metadata": {
        "id": "OcTe4TbONZ8H"
      },
      "outputs": [],
      "source": [
        "# initialize the train, validation, and test data loaders\n",
        "trainDataLoader = DataLoader(trainData, shuffle=True,\n",
        "\tbatch_size=BATCH_SIZE)\n",
        "valDataLoader = DataLoader(valData, batch_size=BATCH_SIZE)\n",
        "testDataLoader = DataLoader(testData, batch_size=BATCH_SIZE)\n",
        "# calculate steps per epoch for training and validation set\n",
        "trainSteps = len(trainDataLoader.dataset) // BATCH_SIZE\n",
        "valSteps = len(valDataLoader.dataset) // BATCH_SIZE\n"
      ]
    },
    {
      "cell_type": "markdown",
      "metadata": {
        "id": "biDQgTTaNyA4"
      },
      "source": [
        "### Initializing the LeNet NN"
      ]
    },
    {
      "cell_type": "code",
      "execution_count": 8,
      "metadata": {
        "colab": {
          "base_uri": "https://localhost:8080/"
        },
        "id": "UBiT87aEN2Uv",
        "outputId": "8288addd-2dd7-4ca5-e82e-d0f89f7945bb"
      },
      "outputs": [
        {
          "name": "stdout",
          "output_type": "stream",
          "text": [
            "[INFO] initializing the LeNet model...\n",
            "[INFO] training the network...\n"
          ]
        }
      ],
      "source": [
        "# initialize the LeNet model\n",
        "print(\"[INFO] initializing the LeNet model...\")\n",
        "model = LeNet(\n",
        "\tnumChannels=1, # The images are in grayscale, so the number of channels is 1\n",
        "\tclasses=len(trainData.dataset.classes)).to(device) # We are using the local CPU because of some issues with working in colab\n",
        "# initialize our optimizer and loss function\n",
        "opt = Adam(model.parameters(), lr=INIT_LR)\n",
        "lossFn = nn.NLLLoss()# Negative Log Likelihood Loss function, because the output of the model is expected to be a probability distribution over classes.\n",
        "# initialize a dictionary to store training history\n",
        "H = {\n",
        "\t\"train_loss\": [],\n",
        "\t\"train_acc\": [],\n",
        "\t\"val_loss\": [],\n",
        "\t\"val_acc\": []\n",
        "}\n",
        "# measure how long training is going to take\n",
        "print(\"[INFO] training the network...\")\n",
        "startTime = time.time()"
      ]
    },
    {
      "cell_type": "markdown",
      "metadata": {
        "id": "F7_Jjc_BO0_E"
      },
      "source": [
        "### Model training"
      ]
    },
    {
      "cell_type": "code",
      "execution_count": 9,
      "metadata": {
        "colab": {
          "base_uri": "https://localhost:8080/"
        },
        "id": "ghaXIFYhO5Ac",
        "outputId": "3f28b8a3-7198-4ba0-9ac8-c59f75d71b65"
      },
      "outputs": [
        {
          "name": "stdout",
          "output_type": "stream",
          "text": [
            "[INFO] EPOCH: 1/10\n",
            "Train loss: 0.364390, Train accuracy: 0.8864\n",
            "Val loss: 0.136839, Val accuracy: 0.9583\n",
            "\n",
            "[INFO] EPOCH: 2/10\n",
            "Train loss: 0.097843, Train accuracy: 0.9702\n",
            "Val loss: 0.092384, Val accuracy: 0.9729\n",
            "\n",
            "[INFO] EPOCH: 3/10\n",
            "Train loss: 0.058594, Train accuracy: 0.9814\n",
            "Val loss: 0.087238, Val accuracy: 0.9733\n",
            "\n",
            "[INFO] EPOCH: 4/10\n",
            "Train loss: 0.038336, Train accuracy: 0.9882\n",
            "Val loss: 0.077489, Val accuracy: 0.9775\n",
            "\n",
            "[INFO] EPOCH: 5/10\n",
            "Train loss: 0.024811, Train accuracy: 0.9920\n",
            "Val loss: 0.077401, Val accuracy: 0.9796\n",
            "\n",
            "[INFO] EPOCH: 6/10\n",
            "Train loss: 0.019243, Train accuracy: 0.9936\n",
            "Val loss: 0.085678, Val accuracy: 0.9785\n",
            "\n",
            "[INFO] EPOCH: 7/10\n",
            "Train loss: 0.016315, Train accuracy: 0.9948\n",
            "Val loss: 0.103697, Val accuracy: 0.9746\n",
            "\n",
            "[INFO] EPOCH: 8/10\n",
            "Train loss: 0.012538, Train accuracy: 0.9959\n",
            "Val loss: 0.078548, Val accuracy: 0.9810\n",
            "\n",
            "[INFO] EPOCH: 9/10\n",
            "Train loss: 0.009840, Train accuracy: 0.9970\n",
            "Val loss: 0.086495, Val accuracy: 0.9801\n",
            "\n",
            "[INFO] EPOCH: 10/10\n",
            "Train loss: 0.012718, Train accuracy: 0.9957\n",
            "Val loss: 0.081253, Val accuracy: 0.9803\n",
            "\n"
          ]
        }
      ],
      "source": [
        "# loop over our epochs\n",
        "for e in range(EPOCHS):\n",
        "\t# set the model in training mode\n",
        "\tmodel.train()\n",
        "\t# initialize the total training and validation loss\n",
        "\ttotalTrainLoss = 0\n",
        "\ttotalValLoss = 0\n",
        "\t# initialize the number of correct predictions in the training\n",
        "\t# and validation step\n",
        "\ttrainCorrect = 0\n",
        "\tvalCorrect = 0\n",
        "\t# loop over the training set\n",
        "\tfor (x, y) in trainDataLoader:\n",
        "\t\t# send the input to the device\n",
        "\t\t(x, y) = (x.to(device), y.to(device))\n",
        "\t\t# perform a forward pass and calculate the training loss\n",
        "\t\tpred = model(x)\n",
        "\t\tloss = lossFn(pred, y)\n",
        "\t\t# zero out the gradients, perform the backpropagation step,\n",
        "\t\t# and update the weights\n",
        "\t\topt.zero_grad()\n",
        "\t\tloss.backward()\n",
        "\t\topt.step()\n",
        "\t\t# add the loss to the total training loss so far and\n",
        "\t\t# calculate the number of correct predictions\n",
        "\t\ttotalTrainLoss += loss\n",
        "\t\ttrainCorrect += (pred.argmax(1) == y).type(torch.float).sum().item()\n",
        "  # switch off autograd for evaluation\n",
        "\twith torch.no_grad():\n",
        "\t\t# set the model in evaluation mode\n",
        "\t\tmodel.eval()\n",
        "\t\t# loop over the validation set\n",
        "\t\tfor (x, y) in valDataLoader:\n",
        "\t\t\t# send the input to the device\n",
        "\t\t\t(x, y) = (x.to(device), y.to(device))\n",
        "\t\t\t# make the predictions and calculate the validation loss\n",
        "\t\t\tpred = model(x)\n",
        "\t\t\ttotalValLoss += lossFn(pred, y)\n",
        "\t\t\t# calculate the number of correct predictions\n",
        "\t\t\tvalCorrect += (pred.argmax(1) == y).type(\n",
        "\t\t\t\ttorch.float).sum().item()\n",
        "\n",
        "  ########################################################\n",
        "    # calculate the average training and validation loss\n",
        "\tavgTrainLoss = totalTrainLoss / trainSteps\n",
        "\tavgValLoss = totalValLoss / valSteps\n",
        "\t# calculate the training and validation accuracy\n",
        "\ttrainCorrect = trainCorrect / len(trainDataLoader.dataset)\n",
        "\tvalCorrect = valCorrect / len(valDataLoader.dataset)\n",
        "\t# update our training history\n",
        "\tH[\"train_loss\"].append(avgTrainLoss.cpu().detach().numpy())\n",
        "\tH[\"train_acc\"].append(trainCorrect)\n",
        "\tH[\"val_loss\"].append(avgValLoss.cpu().detach().numpy())\n",
        "\tH[\"val_acc\"].append(valCorrect)\n",
        "\t# print the model training and validation information\n",
        "\tprint(\"[INFO] EPOCH: {}/{}\".format(e + 1, EPOCHS))\n",
        "\tprint(\"Train loss: {:.6f}, Train accuracy: {:.4f}\".format(\n",
        "\t\tavgTrainLoss, trainCorrect))\n",
        "\tprint(\"Val loss: {:.6f}, Val accuracy: {:.4f}\\n\".format(\n",
        "\t\tavgValLoss, valCorrect))\n",
        "# finish measuring how long training took\n",
        "endTime = time.time()"
      ]
    },
    {
      "cell_type": "markdown",
      "metadata": {
        "id": "sKXhtY8Od-il"
      },
      "source": [
        "## Evaluating the model"
      ]
    },
    {
      "cell_type": "code",
      "execution_count": 10,
      "metadata": {
        "colab": {
          "base_uri": "https://localhost:8080/"
        },
        "id": "B108iS5QeLhs",
        "outputId": "bc348f24-3bd7-475a-9ed6-9d70e515fca1"
      },
      "outputs": [
        {
          "name": "stdout",
          "output_type": "stream",
          "text": [
            "[INFO] total time taken to train the model: 366.66s\n",
            "[INFO] evaluating network...\n",
            "              precision    recall  f1-score   support\n",
            "\n",
            "           o       0.97      0.94      0.96      1000\n",
            "          ki       0.97      0.91      0.94      1000\n",
            "          su       0.91      0.92      0.91      1000\n",
            "         tsu       0.96      0.96      0.96      1000\n",
            "          na       0.92      0.94      0.93      1000\n",
            "          ha       0.94      0.95      0.95      1000\n",
            "          ma       0.95      0.94      0.95      1000\n",
            "          ya       0.96      0.97      0.97      1000\n",
            "          re       0.92      0.98      0.95      1000\n",
            "          wo       0.96      0.96      0.96      1000\n",
            "\n",
            "    accuracy                           0.95     10000\n",
            "   macro avg       0.95      0.95      0.95     10000\n",
            "weighted avg       0.95      0.95      0.95     10000\n",
            "\n"
          ]
        }
      ],
      "source": [
        "print(\"[INFO] total time taken to train the model: {:.2f}s\".format(\n",
        "\tendTime - startTime))\n",
        "# we can now evaluate the network on the test set\n",
        "print(\"[INFO] evaluating network...\")\n",
        "# turn off autograd for testing evaluation\n",
        "with torch.no_grad():\n",
        "\t# set the model in evaluation mode\n",
        "\tmodel.eval()\n",
        "\n",
        "\t# initialize a list to store our predictions\n",
        "\tpreds = []\n",
        "\t# loop over the test set\n",
        "\tfor (x, y) in testDataLoader:\n",
        "\t\t# send the input to the device\n",
        "\t\tx = x.to(device)\n",
        "\t\t# make the predictions and add them to the list\n",
        "\t\tpred = model(x)\n",
        "\t\tpreds.extend(pred.argmax(axis=1).cpu().numpy())\n",
        "# generate a classification report\n",
        "print(classification_report(testData.targets.cpu().numpy(),\n",
        "\tnp.array(preds), target_names=testData.classes))"
      ]
    },
    {
      "cell_type": "markdown",
      "metadata": {},
      "source": [
        "As we can see, the model performance is very good with respect to accuracy, recall, precision and f1 score. However, the training took 366.66 seconds (6 minutes) because we run it locally and without GPU."
      ]
    },
    {
      "cell_type": "markdown",
      "metadata": {
        "id": "kyYNn7B8fnrV"
      },
      "source": [
        "## Plotting the training history"
      ]
    },
    {
      "cell_type": "code",
      "execution_count": 11,
      "metadata": {
        "id": "pA_Jy-tuflt3"
      },
      "outputs": [],
      "source": [
        "# plot the training loss and accuracy\n",
        "plt.style.use(\"ggplot\")\n",
        "plt.figure()\n",
        "plt.plot(H[\"train_loss\"], label=\"train_loss\")\n",
        "plt.plot(H[\"val_loss\"], label=\"val_loss\")\n",
        "plt.plot(H[\"train_acc\"], label=\"train_acc\")\n",
        "plt.plot(H[\"val_acc\"], label=\"val_acc\")\n",
        "plt.title(\"Training Loss and Accuracy on Dataset\")\n",
        "plt.xlabel(\"Epoch #\")\n",
        "plt.ylabel(\"Loss/Accuracy\")\n",
        "plt.legend(loc=\"lower left\")\n",
        "#plt.savefig(args[\"plot\"])\n",
        "plt.savefig(\"plot.png\") #Save\n",
        "# serialize the model to disk\n",
        "torch.save(model, \"model.hpt\")"
      ]
    },
    {
      "cell_type": "markdown",
      "metadata": {},
      "source": [
        "The plot image was initially supposed to be stored locally and accessed though command line arguments (args[\"plot\"]). But what we do here to make it work is to save the image in the current workspace and display it in a cell output using IPython (see cell below)"
      ]
    },
    {
      "cell_type": "code",
      "execution_count": 12,
      "metadata": {},
      "outputs": [
        {
          "data": {
            "image/png": "[encoded data removed]",
            "text/plain": [
              "<PIL.PngImagePlugin.PngImageFile image mode=RGBA size=640x480 at 0x7FF1617C1FA0>"
            ]
          },
          "metadata": {},
          "output_type": "display_data"
        }
      ],
      "source": [
        "from PIL import Image\n",
        "from IPython.display import display\n",
        "\n",
        "# Opening the image file\n",
        "image_path = 'plot.png'\n",
        "image = Image.open(image_path)\n",
        "\n",
        "# Displaying the image\n",
        "display(image)"
      ]
    },
    {
      "cell_type": "markdown",
      "metadata": {},
      "source": [
        "We can see that the training and validation accuracy gradually tend to 1 while the losses decrease to 0. As expected, the validation loss is higher than the training loss, while the inverse is true for the accuracy."
      ]
    },
    {
      "cell_type": "markdown",
      "metadata": {
        "id": "wopN6Q57NByn"
      },
      "source": [
        "## Using the model to make predictions"
      ]
    },
    {
      "cell_type": "code",
      "execution_count": 13,
      "metadata": {
        "id": "-7WYfUmpNFqw"
      },
      "outputs": [],
      "source": [
        "# set the numpy seed for better reproducibility\n",
        "import numpy as np\n",
        "np.random.seed(42)\n",
        "# import the necessary packages\n",
        "from torch.utils.data import DataLoader\n",
        "from torch.utils.data import Subset\n",
        "from torchvision.transforms import ToTensor\n",
        "from torchvision.datasets import KMNIST\n",
        "import imutils\n",
        "import torch\n",
        "import cv2"
      ]
    },
    {
      "cell_type": "code",
      "execution_count": 14,
      "metadata": {
        "colab": {
          "base_uri": "https://localhost:8080/"
        },
        "id": "Eni448ZKOA20",
        "outputId": "67487c1c-8837-4eee-cbf5-8e68bf97c912"
      },
      "outputs": [
        {
          "name": "stdout",
          "output_type": "stream",
          "text": [
            "[INFO] loading the KMNIST test dataset...\n"
          ]
        },
        {
          "data": {
            "text/plain": [
              "LeNet(\n",
              "  (conv1): Conv2d(1, 20, kernel_size=(5, 5), stride=(1, 1))\n",
              "  (relu1): ReLU()\n",
              "  (maxpool1): MaxPool2d(kernel_size=(2, 2), stride=(2, 2), padding=0, dilation=1, ceil_mode=False)\n",
              "  (conv2): Conv2d(20, 50, kernel_size=(5, 5), stride=(1, 1))\n",
              "  (relu2): ReLU()\n",
              "  (maxpool2): MaxPool2d(kernel_size=(2, 2), stride=(2, 2), padding=0, dilation=1, ceil_mode=False)\n",
              "  (fc1): Linear(in_features=800, out_features=500, bias=True)\n",
              "  (relu3): ReLU()\n",
              "  (fc2): Linear(in_features=500, out_features=10, bias=True)\n",
              "  (logSoftmax): LogSoftmax(dim=1)\n",
              ")"
            ]
          },
          "execution_count": 14,
          "metadata": {},
          "output_type": "execute_result"
        }
      ],
      "source": [
        "# set the device we will be using to test the model\n",
        "device = torch.device(\"cuda\" if torch.cuda.is_available() else \"cpu\")\n",
        "# load the KMNIST dataset and randomly grab 10 data points\n",
        "print(\"[INFO] loading the KMNIST test dataset...\")\n",
        "testData = KMNIST(root=\"data\", train=False, download=True,\n",
        "\ttransform=ToTensor())\n",
        "idxs = np.random.choice(range(0, len(testData)), size=(10,))\n",
        "testData = Subset(testData, idxs)\n",
        "# initialize the test data loader\n",
        "testDataLoader = DataLoader(testData, batch_size=1)\n",
        "# load the model and set it to evaluation mode\n",
        "Model = torch.load(\"model.hpt\").to(device)\n",
        "Model.eval()"
      ]
    },
    {
      "cell_type": "markdown",
      "metadata": {
        "id": "6TtG_qBYOjsD"
      },
      "source": [
        "### Making predictions on a sample of the testing set and visualizing the predictions:"
      ]
    },
    {
      "cell_type": "code",
      "execution_count": 15,
      "metadata": {
        "colab": {
          "base_uri": "https://localhost:8080/",
          "height": 1000
        },
        "id": "7P67wjiIOruw",
        "outputId": "5353eefa-1d16-4e7a-9f57-3a37b8c8f58c"
      },
      "outputs": [
        {
          "name": "stdout",
          "output_type": "stream",
          "text": [
            "[INFO] ground truth label: ki, predicted label: ki\n",
            "[INFO] ground truth label: ki, predicted label: ki\n",
            "[INFO] ground truth label: ki, predicted label: ki\n",
            "[INFO] ground truth label: ha, predicted label: ha\n",
            "[INFO] ground truth label: tsu, predicted label: tsu\n",
            "[INFO] ground truth label: ya, predicted label: ya\n",
            "[INFO] ground truth label: tsu, predicted label: tsu\n",
            "[INFO] ground truth label: na, predicted label: na\n",
            "[INFO] ground truth label: ki, predicted label: ki\n",
            "[INFO] ground truth label: tsu, predicted label: tsu\n"
          ]
        }
      ],
      "source": [
        "# switch off autograd\n",
        "with torch.no_grad():\n",
        "\t# loop over the test set\n",
        "\tfor (image, label) in testDataLoader:\n",
        "\t\t# grab the original image and ground truth label\n",
        "\t\torigImage = image.numpy().squeeze(axis=(0, 1))\n",
        "\t\tgtLabel = testData.dataset.classes[label.numpy()[0]]\n",
        "\t\t# send the input to the device and make predictions on it\n",
        "\t\timage = image.to(device)\n",
        "\t\tpred = model(image)\n",
        "\t\t# find the class label index with the largest corresponding\n",
        "\t\t# probability\n",
        "\t\tidx = pred.argmax(axis=1).cpu().numpy()[0]\n",
        "\t\tpredLabel = testData.dataset.classes[idx]\n",
        "\t\t# convert the image from grayscale to RGB (so we can draw on\n",
        "\t\t# it) and resize it (so we can more easily see it on our\n",
        "\t\t# screen)\n",
        "\t\torigImage = np.dstack([origImage] * 3)\n",
        "\t\torigImage = imutils.resize(origImage, width=128)\n",
        "\t\t# draw the predicted class label on it\n",
        "\t\tcolor = (0, 255, 0) if gtLabel == predLabel else (0, 0, 255)\n",
        "\t\tcv2.putText(origImage, gtLabel, (2, 25),\n",
        "\t\t\tcv2.FONT_HERSHEY_SIMPLEX, 0.95, color, 2)\n",
        "\t\t# display the result in terminal and show the input image\n",
        "\t\tprint(\"[INFO] ground truth label: {}, predicted label: {}\".format(\n",
        "\t\t\tgtLabel, predLabel))\n",
        "\t\tcv2.imshow(\"image\", origImage)\n",
        "\t\tcv2.waitKey(0)"
      ]
    },
    {
      "cell_type": "markdown",
      "metadata": {},
      "source": [
        "We can see that the predictions and the ground truth labels perfectly match, which is a proof of the model's accuracy. Images were supposed to be displayed in the cell output above. They were displayed in external windows (which cannot show in the notebook cell output), while the console messages appeared."
      ]
    },
    {
      "cell_type": "markdown",
      "metadata": {},
      "source": [
        "In the original tutorial, Open CV is used to read and display the images. However, it is not very compatible with jupyter notebook environments, because it often causes the kernel to crash. In Google Colab, it is not even possible to use it. However, Visual Studio Code, which we have used to do this assignment, is more robust. But still, when using the $\\textit{cv2.imshow()}$ function, it displays only one image at the time, and the next one when the '0' key is pressed. So we had to come up with a way to display the images in a cell output. What we did was to manually flip through the images, save each one one the disk, and then display them all in a grid using IPython module. This is done in the next cell."
      ]
    },
    {
      "cell_type": "markdown",
      "metadata": {},
      "source": [
        "### Displaying the character images with their transcribed labels"
      ]
    },
    {
      "cell_type": "markdown",
      "metadata": {},
      "source": [
        "Here we display 9 out of 10 images just to have a nice 3x3 square grid"
      ]
    },
    {
      "cell_type": "code",
      "execution_count": 21,
      "metadata": {},
      "outputs": [
        {
          "data": {
            "image/png": "[encoded data removed]",
            "text/plain": [
              "<Figure size 576x576 with 9 Axes>"
            ]
          },
          "metadata": {
            "needs_background": "light"
          },
          "output_type": "display_data"
        }
      ],
      "source": [
        "%matplotlib inline\n",
        "import os\n",
        "from PIL import Image\n",
        "import matplotlib.pyplot as plt\n",
        "import numpy as np\n",
        "\n",
        "# Directory path where the images are stored\n",
        "directory = \"your_path\"\n",
        "\n",
        "# Getting the list of image file names in the directory\n",
        "image_files = os.listdir(directory)\n",
        "\n",
        "# Calculating the grid size based on the number of images\n",
        "num_images = len(image_files)\n",
        "grid_size = int(np.ceil(np.sqrt(num_images)))\n",
        "\n",
        "# Creating the grid and display the images\n",
        "fig, axes = plt.subplots(grid_size, grid_size, figsize=(8, 8))\n",
        "for i, image_file in enumerate(image_files):\n",
        "    ax = axes[i // grid_size, i % grid_size]  # Get the corresponding axis\n",
        "\n",
        "    # Reading the image using PIL\n",
        "    image_path = os.path.join(directory, image_file)\n",
        "    image = Image.open(image_path)\n",
        "\n",
        "    ax.imshow(image)  # Display the image\n",
        "    ax.axis('off')  # Turn off the axis labels\n",
        "\n",
        "# Adjusting spacing and layout\n",
        "plt.subplots_adjust(wspace=0.05, hspace=0.05)\n",
        "plt.tight_layout()\n",
        "\n",
        "# Showing the grid of images\n",
        "plt.show()"
      ]
    },
    {
      "cell_type": "markdown",
      "metadata": {},
      "source": [
        "As we can see, our CNN is able to recognize Hiragana characters with a high accuracy, and this was also seen in the numerical performance metrics."
      ]
    }
  ],
  "metadata": {
    "accelerator": "GPU",
    "colab": {
      "gpuType": "T4",
      "provenance": []
    },
    "kernelspec": {
      "display_name": "Python 3",
      "name": "python3"
    },
    "language_info": {
      "codemirror_mode": {
        "name": "ipython",
        "version": 3
      },
      "file_extension": ".py",
      "mimetype": "text/x-python",
      "name": "python",
      "nbconvert_exporter": "python",
      "pygments_lexer": "ipython3",
      "version": "3.9.2"
    }
  },
  "nbformat": 4,
  "nbformat_minor": 0
}
